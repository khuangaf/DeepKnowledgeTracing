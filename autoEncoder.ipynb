{
 "cells": [
  {
   "cell_type": "code",
   "execution_count": 1,
   "metadata": {},
   "outputs": [
    {
     "name": "stderr",
     "output_type": "stream",
     "text": [
      "Using TensorFlow backend.\n"
     ]
    }
   ],
   "source": [
    "from keras.layers import Input, Dense\n",
    "from keras.models import Model\n",
    "import numpy as np\n",
    "import pandas as pd\n",
    "import tqdm"
   ]
  },
  {
   "cell_type": "code",
   "execution_count": 26,
   "metadata": {},
   "outputs": [],
   "source": [
    "# this is the size of our encoded representations\n",
    "encoding_dim = 300  # 32 floats -> compression of factor 24.5, assuming the input is 784 floats\n",
    "\n",
    "# this is our input placeholder\n",
    "input = Input(shape=(1000,))\n",
    "# \"encoded\" is the encoded representation of the input\n",
    "encoded = Dense(encoding_dim, activation='relu')(input)\n",
    "# \"decoded\" is the lossy reconstruction of the input\n",
    "decoded = Dense(1000, activation='sigmoid')(encoded)\n",
    "\n",
    "# this model maps an input to its reconstruction\n",
    "autoencoder = Model(input, decoded)"
   ]
  },
  {
   "cell_type": "code",
   "execution_count": 27,
   "metadata": {
    "collapsed": true
   },
   "outputs": [],
   "source": [
    "# this model maps an input to its encoded representation\n",
    "encoder = Model(input, encoded)"
   ]
  },
  {
   "cell_type": "code",
   "execution_count": 28,
   "metadata": {
    "collapsed": true
   },
   "outputs": [],
   "source": [
    "# create a placeholder for an encoded (32-dimensional) input\n",
    "encoded_input = Input(shape=(encoding_dim,))\n",
    "# retrieve the last layer of the autoencoder model\n",
    "decoder_layer = autoencoder.layers[-1]\n",
    "# create the decoder model\n",
    "decoder = Model(encoded_input, decoder_layer(encoded_input))"
   ]
  },
  {
   "cell_type": "code",
   "execution_count": 29,
   "metadata": {
    "collapsed": true
   },
   "outputs": [],
   "source": [
    "autoencoder.compile(optimizer='adadelta', loss='binary_crossentropy')"
   ]
  },
  {
   "cell_type": "code",
   "execution_count": 30,
   "metadata": {},
   "outputs": [
    {
     "name": "stdout",
     "output_type": "stream",
     "text": [
      "(128972, 1000)\n",
      "(100000, 1000)\n",
      "(28972, 1000)\n"
     ]
    }
   ],
   "source": [
    "data = np.load('data/body2vec.npy')\n",
    "x_train = data[:100000,:]\n",
    "x_test = data[-(data.shape[0]-x_train.shape[0]):,:]\n",
    "\n",
    "print data.shape\n",
    "print x_train.shape\n",
    "print x_test.shape"
   ]
  },
  {
   "cell_type": "code",
   "execution_count": 31,
   "metadata": {},
   "outputs": [
    {
     "name": "stdout",
     "output_type": "stream",
     "text": [
      "Train on 100000 samples, validate on 28972 samples\n",
      "Epoch 1/50\n",
      "100000/100000 [==============================] - 6s - loss: 0.4822 - val_loss: 0.0852\n",
      "Epoch 2/50\n",
      "100000/100000 [==============================] - 3s - loss: 0.0365 - val_loss: 0.0158\n",
      "Epoch 3/50\n",
      "100000/100000 [==============================] - 3s - loss: 0.0152 - val_loss: 0.0105\n",
      "Epoch 4/50\n",
      "100000/100000 [==============================] - 3s - loss: 0.0122 - val_loss: 0.0090\n",
      "Epoch 5/50\n",
      "100000/100000 [==============================] - 3s - loss: 0.0112 - val_loss: 0.0083\n",
      "Epoch 6/50\n",
      "100000/100000 [==============================] - 3s - loss: 0.0108 - val_loss: 0.0080\n",
      "Epoch 7/50\n",
      "100000/100000 [==============================] - 3s - loss: 0.0105 - val_loss: 0.0078\n",
      "Epoch 8/50\n",
      "100000/100000 [==============================] - 3s - loss: 0.0103 - val_loss: 0.0076\n",
      "Epoch 9/50\n",
      "100000/100000 [==============================] - 3s - loss: 0.0102 - val_loss: 0.0075\n",
      "Epoch 10/50\n",
      "100000/100000 [==============================] - 3s - loss: 0.0102 - val_loss: 0.0074\n",
      "Epoch 11/50\n",
      "100000/100000 [==============================] - 3s - loss: 0.0101 - val_loss: 0.0074\n",
      "Epoch 12/50\n",
      "100000/100000 [==============================] - 3s - loss: 0.0101 - val_loss: 0.0073\n",
      "Epoch 13/50\n",
      "100000/100000 [==============================] - 3s - loss: 0.0100 - val_loss: 0.0073\n",
      "Epoch 14/50\n",
      "100000/100000 [==============================] - 3s - loss: 0.0100 - val_loss: 0.0073\n",
      "Epoch 15/50\n",
      "100000/100000 [==============================] - 3s - loss: 0.0100 - val_loss: 0.0072\n",
      "Epoch 16/50\n",
      "100000/100000 [==============================] - 3s - loss: 0.0100 - val_loss: 0.0072\n",
      "Epoch 17/50\n",
      "100000/100000 [==============================] - 3s - loss: 0.0099 - val_loss: 0.0072\n",
      "Epoch 18/50\n",
      "100000/100000 [==============================] - 3s - loss: 0.0099 - val_loss: 0.0071\n",
      "Epoch 19/50\n",
      "100000/100000 [==============================] - 3s - loss: 0.0099 - val_loss: 0.0071\n",
      "Epoch 20/50\n",
      "100000/100000 [==============================] - 3s - loss: 0.0099 - val_loss: 0.0071\n",
      "Epoch 21/50\n",
      "100000/100000 [==============================] - 3s - loss: 0.0099 - val_loss: 0.0071\n",
      "Epoch 22/50\n",
      "100000/100000 [==============================] - 3s - loss: 0.0099 - val_loss: 0.0070\n",
      "Epoch 23/50\n",
      "100000/100000 [==============================] - 3s - loss: 0.0098 - val_loss: 0.0070\n",
      "Epoch 24/50\n",
      "100000/100000 [==============================] - 3s - loss: 0.0098 - val_loss: 0.0070\n",
      "Epoch 25/50\n",
      "100000/100000 [==============================] - 3s - loss: 0.0098 - val_loss: 0.0070\n",
      "Epoch 26/50\n",
      "100000/100000 [==============================] - 3s - loss: 0.0098 - val_loss: 0.0070\n",
      "Epoch 27/50\n",
      "100000/100000 [==============================] - 3s - loss: 0.0098 - val_loss: 0.0069\n",
      "Epoch 28/50\n",
      "100000/100000 [==============================] - 3s - loss: 0.0098 - val_loss: 0.0069\n",
      "Epoch 29/50\n",
      "100000/100000 [==============================] - 3s - loss: 0.0098 - val_loss: 0.0069\n",
      "Epoch 30/50\n",
      "100000/100000 [==============================] - 3s - loss: 0.0097 - val_loss: 0.0069\n",
      "Epoch 31/50\n",
      "100000/100000 [==============================] - 3s - loss: 0.0097 - val_loss: 0.0068\n",
      "Epoch 32/50\n",
      "100000/100000 [==============================] - 3s - loss: 0.0097 - val_loss: 0.0068\n",
      "Epoch 33/50\n",
      "100000/100000 [==============================] - 3s - loss: 0.0097 - val_loss: 0.0068\n",
      "Epoch 34/50\n",
      "100000/100000 [==============================] - 3s - loss: 0.0097 - val_loss: 0.0068\n",
      "Epoch 35/50\n",
      "100000/100000 [==============================] - 3s - loss: 0.0097 - val_loss: 0.0067\n",
      "Epoch 36/50\n",
      "100000/100000 [==============================] - 3s - loss: 0.0097 - val_loss: 0.0067\n",
      "Epoch 37/50\n",
      "100000/100000 [==============================] - 3s - loss: 0.0096 - val_loss: 0.0067\n",
      "Epoch 38/50\n",
      "100000/100000 [==============================] - 3s - loss: 0.0096 - val_loss: 0.0067\n",
      "Epoch 39/50\n",
      "100000/100000 [==============================] - 3s - loss: 0.0096 - val_loss: 0.0067\n",
      "Epoch 40/50\n",
      "100000/100000 [==============================] - 3s - loss: 0.0096 - val_loss: 0.0066\n",
      "Epoch 41/50\n",
      "100000/100000 [==============================] - 2s - loss: 0.0096 - val_loss: 0.0066\n",
      "Epoch 42/50\n",
      "100000/100000 [==============================] - 3s - loss: 0.0096 - val_loss: 0.0066\n",
      "Epoch 43/50\n",
      "100000/100000 [==============================] - 2s - loss: 0.0095 - val_loss: 0.0066\n",
      "Epoch 44/50\n",
      "100000/100000 [==============================] - 2s - loss: 0.0095 - val_loss: 0.0066\n",
      "Epoch 45/50\n",
      "100000/100000 [==============================] - 3s - loss: 0.0095 - val_loss: 0.0065\n",
      "Epoch 46/50\n",
      "100000/100000 [==============================] - 3s - loss: 0.0095 - val_loss: 0.0065\n",
      "Epoch 47/50\n",
      "100000/100000 [==============================] - 3s - loss: 0.0095 - val_loss: 0.0065\n",
      "Epoch 48/50\n",
      "100000/100000 [==============================] - 3s - loss: 0.0095 - val_loss: 0.0065\n",
      "Epoch 49/50\n",
      "100000/100000 [==============================] - 3s - loss: 0.0095 - val_loss: 0.0065\n",
      "Epoch 50/50\n",
      "100000/100000 [==============================] - 3s - loss: 0.0094 - val_loss: 0.0064\n"
     ]
    },
    {
     "data": {
      "text/plain": [
       "<keras.callbacks.History at 0x7ff5315a2750>"
      ]
     },
     "execution_count": 31,
     "metadata": {},
     "output_type": "execute_result"
    }
   ],
   "source": [
    "autoencoder.fit(x_train, x_train,\n",
    "                epochs=50,\n",
    "                batch_size=256,\n",
    "                shuffle=True,\n",
    "                validation_data=(x_test, x_test))"
   ]
  },
  {
   "cell_type": "code",
   "execution_count": 38,
   "metadata": {},
   "outputs": [
    {
     "data": {
      "text/plain": [
       "(128972, 300)"
      ]
     },
     "execution_count": 38,
     "metadata": {},
     "output_type": "execute_result"
    }
   ],
   "source": [
    "encoded = encoder.predict(data)\n",
    "encoded.shape"
   ]
  },
  {
   "cell_type": "code",
   "execution_count": 39,
   "metadata": {},
   "outputs": [],
   "source": [
    "np.save('data/body2vec_autoencoder',encoded)"
   ]
  },
  {
   "cell_type": "code",
   "execution_count": 40,
   "metadata": {},
   "outputs": [
    {
     "data": {
      "text/plain": [
       "(128972, 300)"
      ]
     },
     "execution_count": 40,
     "metadata": {},
     "output_type": "execute_result"
    }
   ],
   "source": [
    "np.load('data/body2vec_autoencoder.npy').shape"
   ]
  },
  {
   "cell_type": "code",
   "execution_count": null,
   "metadata": {
    "collapsed": true
   },
   "outputs": [],
   "source": []
  }
 ],
 "metadata": {
  "kernelspec": {
   "display_name": "Python 2",
   "language": "python",
   "name": "python2"
  },
  "language_info": {
   "codemirror_mode": {
    "name": "ipython",
    "version": 2
   },
   "file_extension": ".py",
   "mimetype": "text/x-python",
   "name": "python",
   "nbconvert_exporter": "python",
   "pygments_lexer": "ipython2",
   "version": "2.7.13"
  }
 },
 "nbformat": 4,
 "nbformat_minor": 2
}
