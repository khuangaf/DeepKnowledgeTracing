{
 "cells": [
  {
   "cell_type": "code",
   "execution_count": 10,
   "metadata": {
    "collapsed": true
   },
   "outputs": [],
   "source": [
    "import numpy as np\n",
    "import pandas as pd\n",
    "import csv"
   ]
  },
  {
   "cell_type": "code",
   "execution_count": 11,
   "metadata": {
    "collapsed": true
   },
   "outputs": [],
   "source": [
    "original_train_data_path = 'data/kdd_test_0506_alg.csv'\n",
    "modified_train_data_path = 'data/kdd_test_0506_alg_modified.csv'\n",
    "temp_data_path = 'data/temp.csv'\n",
    "window_size = 10"
   ]
  },
  {
   "cell_type": "code",
   "execution_count": 12,
   "metadata": {},
   "outputs": [],
   "source": [
    "rows = []\n",
    "with open(original_train_data_path, \"r\") as csvfile:\n",
    "    reader = csv.reader(csvfile, delimiter=',')\n",
    "    for row in reader:\n",
    "        rows.append(row)\n",
    "index = 0\n",
    "i = 0\n",
    "outputRows = []\n",
    "while(index < len(rows)-1):\n",
    "    problems_num = int(rows[index][0])\n",
    "    secondRow =  rows[index+1]\n",
    "    thirdRow = rows[index+2]\n",
    "    if problems_num < window_size:\n",
    "        index+= 3\n",
    "        continue\n",
    "    if len(secondRow) <1:\n",
    "        index+=3\n",
    "        continue\n",
    "    \n",
    "    for i in range(problems_num - window_size + 1):\n",
    "        p_num = 10\n",
    "        sRow = secondRow[i:10+i]\n",
    "        tRow = thirdRow[i:10+i]\n",
    "        outputRows.append(p_num)\n",
    "        outputRows.append(sRow)\n",
    "        outputRows.append(tRow)\n",
    "    index+=3\n"
   ]
  },
  {
   "cell_type": "code",
   "execution_count": 13,
   "metadata": {
    "collapsed": true
   },
   "outputs": [],
   "source": [
    "index = 0\n",
    "with open(temp_data_path,'w+') as f_handle:\n",
    "    while(index < len(outputRows)-1):\n",
    "#         print outputRows[index+1]\n",
    "        np.savetxt(f_handle, np.array([outputRows[index]]), fmt='%i', newline = '\\n')\n",
    "        np.savetxt(f_handle, np.array(outputRows[index+1]).astype(np.int), fmt='%i',newline = ',')\n",
    "        np.savetxt(f_handle,np.array(['\\n']),fmt='%s',newline='')\n",
    "        np.savetxt(f_handle, np.array(outputRows[index+2]).astype(np.int), fmt='%i',newline = ',')\n",
    "        np.savetxt(f_handle,np.array(['\\n']),fmt='%s',newline='')\n",
    "        \n",
    "        index+=3"
   ]
  },
  {
   "cell_type": "code",
   "execution_count": 14,
   "metadata": {
    "collapsed": true
   },
   "outputs": [],
   "source": [
    "\n",
    "with open(temp_data_path, 'r') as r, open(modified_train_data_path, 'w') as w:    \n",
    "    for num, line in enumerate(r):\n",
    "        if num %3!= 0:  \n",
    "            \n",
    "            newline = line[:-2] + \"\\n\" if \"\\n\" in line else line[:-1]\n",
    "        else:\n",
    "            newline = line               \n",
    "        w.write(newline)"
   ]
  },
  {
   "cell_type": "code",
   "execution_count": null,
   "metadata": {},
   "outputs": [],
   "source": [
    "with open(modified_train_data_path, \"r\") as csvfile:\n",
    "    reader = csv.reader(csvfile, delimiter=',')\n",
    "    \n",
    "    for row in reader:\n",
    "        print(row)"
   ]
  },
  {
   "cell_type": "code",
   "execution_count": null,
   "metadata": {
    "collapsed": true
   },
   "outputs": [],
   "source": []
  }
 ],
 "metadata": {
  "kernelspec": {
   "display_name": "Python 2",
   "language": "python",
   "name": "python2"
  },
  "language_info": {
   "codemirror_mode": {
    "name": "ipython",
    "version": 2
   },
   "file_extension": ".py",
   "mimetype": "text/x-python",
   "name": "python",
   "nbconvert_exporter": "python",
   "pygments_lexer": "ipython2",
   "version": "2.7.13"
  }
 },
 "nbformat": 4,
 "nbformat_minor": 2
}
