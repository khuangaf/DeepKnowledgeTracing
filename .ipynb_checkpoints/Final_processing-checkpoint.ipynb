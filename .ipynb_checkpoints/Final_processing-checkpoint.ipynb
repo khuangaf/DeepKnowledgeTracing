{
 "cells": [
  {
   "cell_type": "code",
   "execution_count": 1,
   "metadata": {
    "collapsed": true
   },
   "outputs": [],
   "source": [
    "import tensorflow as tf\n",
    "import pandas as pd\n",
    "import numpy as np"
   ]
  },
  {
   "cell_type": "code",
   "execution_count": 2,
   "metadata": {},
   "outputs": [
    {
     "name": "stderr",
     "output_type": "stream",
     "text": [
      "/Users/steevehuang/tensorflow/lib/python2.7/site-packages/IPython/core/interactiveshell.py:2718: DtypeWarning: Columns (19,31) have mixed types. Specify dtype option on import or set low_memory=False.\n",
      "  interactivity=interactivity, compiler=compiler, result=result)\n"
     ]
    }
   ],
   "source": [
    "df = pd.read_csv('skill_builder_data2009_no_duplicate.csv')\n",
    "df[['user_id','skill_id','correct']]\n",
    "df= df.loc[~df['skill_id'].isnull(),['user_id','skill_id','correct']]\n"
   ]
  },
  {
   "cell_type": "code",
   "execution_count": 13,
   "metadata": {
    "scrolled": true
   },
   "outputs": [
    {
     "name": "stdout",
     "output_type": "stream",
     "text": [
      "(4163,)\n"
     ]
    }
   ],
   "source": [
    "user_ids = df['user_id'].unique()\n",
    "print user_ids.shape\n",
    "np.random.shuffle(user_ids)"
   ]
  },
  {
   "cell_type": "code",
   "execution_count": 14,
   "metadata": {
    "collapsed": true
   },
   "outputs": [],
   "source": [
    "path = 'train.csv'\n",
    "for i in range(len(user_ids)):\n",
    "    if i > 4000:\n",
    "        path= 'test.csv'\n",
    "    current_df = df.loc[df['user_id'] == user_ids[i]]\n",
    "    skills = current_df.skill_id.astype(np.int32)\n",
    "    correct = current_df.correct.astype(np.int32)\n",
    "    with open(path,'a') as f_handle:\n",
    "        sequenceLength = len(skills)\n",
    "        np.savetxt(f_handle, np.array([sequenceLength]), fmt='%i', newline = '\\n')\n",
    "        np.savetxt(f_handle,skills.astype(int), fmt='%i',newline = ',')\n",
    "        np.savetxt(f_handle,np.array(['\\n']),fmt='%s',newline='')\n",
    "        np.savetxt(f_handle,correct.astype(int), fmt='%i',newline = ',')\n",
    "        np.savetxt(f_handle,np.array(['\\n']),fmt='%s',newline='')\n",
    "    \n"
   ]
  },
  {
   "cell_type": "code",
   "execution_count": 36,
   "metadata": {},
   "outputs": [
    {
     "data": {
      "text/plain": [
       "0           1\n",
       "1           1\n",
       "2           1\n",
       "3           1\n",
       "4           1\n",
       "5           1\n",
       "6           1\n",
       "7           1\n",
       "8           1\n",
       "9           1\n",
       "10          1\n",
       "11          1\n",
       "12          1\n",
       "13          1\n",
       "14          1\n",
       "15          1\n",
       "16          1\n",
       "17          1\n",
       "18          1\n",
       "19          1\n",
       "20          1\n",
       "21          1\n",
       "22          1\n",
       "23          1\n",
       "24          1\n",
       "25          1\n",
       "26          1\n",
       "27          1\n",
       "28          1\n",
       "29          1\n",
       "         ... \n",
       "337971    378\n",
       "337972    378\n",
       "337973    378\n",
       "337974    378\n",
       "337975    378\n",
       "337976    378\n",
       "337977    378\n",
       "337978    378\n",
       "337979    378\n",
       "337980    378\n",
       "337981    378\n",
       "337982    378\n",
       "337983    378\n",
       "337984    378\n",
       "337985    378\n",
       "337986    378\n",
       "337987    378\n",
       "337988    378\n",
       "337989    378\n",
       "337990    378\n",
       "337991    378\n",
       "337992    378\n",
       "337993    378\n",
       "337994    378\n",
       "337995    378\n",
       "337996    378\n",
       "337997    378\n",
       "337998    378\n",
       "337999    378\n",
       "338000    378\n",
       "Name: skill_id, Length: 338001, dtype: int32"
      ]
     },
     "execution_count": 36,
     "metadata": {},
     "output_type": "execute_result"
    }
   ],
   "source": [
    "\n",
    "\n",
    "with open('temp.csv','a') as f_handle:\n",
    "    np.savetxt(f_handle,skills.astype(int), fmt='%i',newline = ',')\n",
    "    np.savetxt(f_handle,np.array(['\\n']),fmt='%s',newline='')\n",
    "    \n"
   ]
  },
  {
   "cell_type": "code",
   "execution_count": null,
   "metadata": {
    "collapsed": true
   },
   "outputs": [],
   "source": []
  }
 ],
 "metadata": {
  "kernelspec": {
   "display_name": "Python 2",
   "language": "python",
   "name": "python2"
  },
  "language_info": {
   "codemirror_mode": {
    "name": "ipython",
    "version": 2
   },
   "file_extension": ".py",
   "mimetype": "text/x-python",
   "name": "python",
   "nbconvert_exporter": "python",
   "pygments_lexer": "ipython2",
   "version": "2.7.13"
  }
 },
 "nbformat": 4,
 "nbformat_minor": 2
}
